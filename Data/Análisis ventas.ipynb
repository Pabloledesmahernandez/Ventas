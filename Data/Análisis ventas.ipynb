{
 "cells": [
  {
   "cell_type": "markdown",
   "id": "f22bbb7b",
   "metadata": {},
   "source": [
    "# Proyecto análisis ventas"
   ]
  },
  {
   "cell_type": "markdown",
   "id": "f812be8d",
   "metadata": {},
   "source": [
    "Autor: Pablo Ledesma Hernández"
   ]
  },
  {
   "cell_type": "markdown",
   "id": "66c1f929",
   "metadata": {},
   "source": [
    "# Lectura de fichero"
   ]
  },
  {
   "cell_type": "code",
   "execution_count": 2,
   "id": "e22f7b12",
   "metadata": {},
   "outputs": [],
   "source": [
    "import csv\n",
    "import math\n",
    "from collections import namedtuple\n",
    "from datetime import datetime\n",
    "from matplotlib import pyplot as plt"
   ]
  },
  {
   "cell_type": "code",
   "execution_count": 3,
   "id": "007da3fc",
   "metadata": {},
   "outputs": [],
   "source": [
    "Ventas = namedtuple('Ventas', 'OrderDate, Region, City, Category, Product, Quantity, UnitPrice, TotalPrice')\n",
    "def lee_ventas(ventas):\n",
    "  \n",
    "    with open('ventas.csv', encoding='utf-8') as f:\n",
    "        lector = csv.reader(f)\n",
    "        next(lector)\n",
    "        ventas = [Ventas(OrderDate, Region, City, Category, Product, int(Quantity), float(UnitPrice), float(TotalPrice)) for OrderDate, Region, City, Category, Product, Quantity, UnitPrice, TotalPrice in lector]\n",
    "        return ventas\n",
    "        \n",
    "    \n"
   ]
  },
  {
   "cell_type": "code",
   "execution_count": 4,
   "id": "cd858b56",
   "metadata": {},
   "outputs": [
    {
     "name": "stdout",
     "output_type": "stream",
     "text": [
      "[Ventas(OrderDate='01/01/2020', Region='East', City='Boston', Category='Bars', Product='Carrot', Quantity=33, UnitPrice=1.77, TotalPrice=58.41), Ventas(OrderDate='04/01/2020', Region='East', City='Boston', Category='Crackers', Product='Whole Wheat', Quantity=87, UnitPrice=3.49, TotalPrice=303.63), Ventas(OrderDate='07/01/2020', Region='West', City='Los Angeles', Category='Cookies', Product='Chocolate Chip', Quantity=58, UnitPrice=1.87, TotalPrice=108.46), Ventas(OrderDate='10/01/2020', Region='East', City='New York', Category='Cookies', Product='Chocolate Chip', Quantity=82, UnitPrice=1.87, TotalPrice=153.34), Ventas(OrderDate='13/01/2020', Region='East', City='Boston', Category='Cookies', Product='Arrowroot', Quantity=38, UnitPrice=2.18, TotalPrice=82.84), Ventas(OrderDate='16/01/2020', Region='East', City='Boston', Category='Bars', Product='Carrot', Quantity=54, UnitPrice=1.77, TotalPrice=95.58), Ventas(OrderDate='19/01/2020', Region='East', City='Boston', Category='Crackers', Product='Whole Wheat', Quantity=149, UnitPrice=3.49, TotalPrice=520.01), Ventas(OrderDate='22/01/2020', Region='West', City='Los Angeles', Category='Bars', Product='Carrot', Quantity=51, UnitPrice=1.77, TotalPrice=90.27), Ventas(OrderDate='25/01/2020', Region='East', City='New York', Category='Bars', Product='Carrot', Quantity=100, UnitPrice=1.77, TotalPrice=177.0), Ventas(OrderDate='28/01/2020', Region='East', City='New York', Category='Snacks', Product='Potato Chips', Quantity=28, UnitPrice=1.35, TotalPrice=37.8), Ventas(OrderDate='31/01/2020', Region='East', City='Boston', Category='Cookies', Product='Arrowroot', Quantity=36, UnitPrice=2.18, TotalPrice=78.48), Ventas(OrderDate='03/02/2020', Region='East', City='Boston', Category='Cookies', Product='Chocolate Chip', Quantity=31, UnitPrice=1.87, TotalPrice=57.97), Ventas(OrderDate='06/02/2020', Region='East', City='Boston', Category='Crackers', Product='Whole Wheat', Quantity=28, UnitPrice=3.49, TotalPrice=97.72), Ventas(OrderDate='09/02/2020', Region='West', City='Los Angeles', Category='Bars', Product='Carrot', Quantity=44, UnitPrice=1.77, TotalPrice=77.88), Ventas(OrderDate='12/02/2020', Region='East', City='New York', Category='Bars', Product='Carrot', Quantity=23, UnitPrice=1.77, TotalPrice=40.71)]\n"
     ]
    }
   ],
   "source": [
    "ventas = lee_ventas(\"ventas.csv\")\n",
    "print(ventas[:15])\n",
    "\n",
    "\n"
   ]
  },
  {
   "cell_type": "markdown",
   "id": "cbbd4543",
   "metadata": {},
   "source": [
    "# Filtrado: selección de filas"
   ]
  },
  {
   "cell_type": "markdown",
   "id": "423d8bc3",
   "metadata": {},
   "source": [
    "Se muestran aquellas filas en las que el precio total es mayor que 500"
   ]
  },
  {
   "cell_type": "code",
   "execution_count": 4,
   "id": "d8a7c275",
   "metadata": {},
   "outputs": [],
   "source": [
    "def factura(ventas, total):\n",
    "    return[p for p in ventas if p.TotalPrice>=total]"
   ]
  },
  {
   "cell_type": "code",
   "execution_count": 5,
   "id": "dcabd424",
   "metadata": {},
   "outputs": [
    {
     "data": {
      "text/plain": [
       "[Ventas(OrderDate='19/01/2020', Region='East', City='Boston', Category='Crackers', Product='Whole Wheat', Quantity=149, UnitPrice=3.49, TotalPrice=520.01),\n",
       " Ventas(OrderDate='29/03/2020', Region='East', City='Boston', Category='Cookies', Product='Oatmeal Raisin', Quantity=193, UnitPrice=2.84, TotalPrice=548.12),\n",
       " Ventas(OrderDate='03/06/2020', Region='West', City='Los Angeles', Category='Cookies', Product='Oatmeal Raisin', Quantity=288, UnitPrice=2.84, TotalPrice=817.92),\n",
       " Ventas(OrderDate='21/06/2020', Region='West', City='Los Angeles', Category='Bars', Product='Carrot', Quantity=306, UnitPrice=1.77, TotalPrice=541.62),\n",
       " Ventas(OrderDate='24/12/2020', Region='East', City='New York', Category='Cookies', Product='Arrowroot', Quantity=237, UnitPrice=2.18, TotalPrice=516.66)]"
      ]
     },
     "execution_count": 5,
     "metadata": {},
     "output_type": "execute_result"
    }
   ],
   "source": [
    "factura(ventas,500)"
   ]
  },
  {
   "cell_type": "markdown",
   "id": "788f5b58",
   "metadata": {},
   "source": [
    "# Filtrado: selección de columnas"
   ]
  },
  {
   "cell_type": "markdown",
   "id": "267a9570",
   "metadata": {},
   "source": [
    "Se muestran la ciudad, fecha y número de unidades en los que se han vendido un determinado producto, en este caso zanahorias."
   ]
  },
  {
   "cell_type": "code",
   "execution_count": 7,
   "id": "34855fd5",
   "metadata": {},
   "outputs": [],
   "source": [
    "def compras_producto(ventas, Producto):\n",
    "    return[(p.City, p.OrderDate, p.Quantity) for p in ventas if (Producto==p.Product) ]"
   ]
  },
  {
   "cell_type": "code",
   "execution_count": 8,
   "id": "3a9c9d8c",
   "metadata": {},
   "outputs": [
    {
     "data": {
      "text/plain": [
       "[('Boston', '01/01/2020', 33),\n",
       " ('Boston', '16/01/2020', 54),\n",
       " ('Los Angeles', '22/01/2020', 51),\n",
       " ('New York', '25/01/2020', 100),\n",
       " ('Los Angeles', '09/02/2020', 44),\n",
       " ('New York', '12/02/2020', 23),\n",
       " ('Boston', '08/03/2020', 61),\n",
       " ('New York', '17/03/2020', 38),\n",
       " ('Los Angeles', '01/04/2020', 58),\n",
       " ('New York', '07/04/2020', 91),\n",
       " ('Boston', '16/04/2020', 48),\n",
       " ('Los Angeles', '22/04/2020', 20),\n",
       " ('New York', '25/04/2020', 53),\n",
       " ('Los Angeles', '10/05/2020', 25),\n",
       " ('New York', '16/05/2020', 61),\n",
       " ('Boston', '28/05/2020', 58),\n",
       " ('San Diego', '09/06/2020', 42),\n",
       " ('Boston', '15/06/2020', 75),\n",
       " ('Los Angeles', '21/06/2020', 306),\n",
       " ('San Diego', '03/07/2020', 52),\n",
       " ('Boston', '09/07/2020', 136),\n",
       " ('New York', '08/08/2020', 24),\n",
       " ('Boston', '20/08/2020', 109),\n",
       " ('San Diego', '04/09/2020', 45),\n",
       " ('Boston', '10/09/2020', 143),\n",
       " ('Los Angeles', '16/09/2020', 133),\n",
       " ('Boston', '01/10/2020', 77),\n",
       " ('Los Angeles', '07/10/2020', 40),\n",
       " ('New York', '16/10/2020', 141),\n",
       " ('San Diego', '22/10/2020', 20),\n",
       " ('Los Angeles', '03/11/2020', 39),\n",
       " ('New York', '09/11/2020', 90),\n",
       " ('Los Angeles', '24/11/2020', 30),\n",
       " ('New York', '30/11/2020', 92),\n",
       " ('Los Angeles', '18/12/2020', 44),\n",
       " ('Boston', '05/01/2021', 63),\n",
       " ('New York', '17/01/2021', 102),\n",
       " ('San Diego', '23/01/2021', 56),\n",
       " ('Boston', '29/01/2021', 51),\n",
       " ('New York', '10/02/2021', 34),\n",
       " ('Boston', '19/02/2021', 68),\n",
       " ('Boston', '14/03/2021', 93),\n",
       " ('Los Angeles', '20/03/2021', 103),\n",
       " ('San Diego', '01/04/2021', 118),\n",
       " ('Los Angeles', '10/04/2021', 90),\n",
       " ('New York', '16/04/2021', 48),\n",
       " ('Boston', '16/05/2021', 58),\n",
       " ('New York', '25/05/2021', 84),\n",
       " ('Los Angeles', '12/06/2021', 73),\n",
       " ('San Diego', '21/06/2021', 41),\n",
       " ('New York', '02/08/2021', 71),\n",
       " ('Boston', '11/08/2021', 55),\n",
       " ('Los Angeles', '17/08/2021', 34),\n",
       " ('San Diego', '26/08/2021', 41),\n",
       " ('Boston', '01/09/2021', 25),\n",
       " ('New York', '13/09/2021', 30),\n",
       " ('San Diego', '19/09/2021', 49),\n",
       " ('Boston', '25/09/2021', 31),\n",
       " ('San Diego', '13/10/2021', 40),\n",
       " ('Boston', '19/10/2021', 43),\n",
       " ('Los Angeles', '25/10/2021', 35),\n",
       " ('Los Angeles', '12/11/2021', 137),\n",
       " ('San Diego', '21/11/2021', 20),\n",
       " ('New York', '09/12/2021', 38)]"
      ]
     },
     "execution_count": 8,
     "metadata": {},
     "output_type": "execute_result"
    }
   ],
   "source": [
    "compras_producto(ventas,'Carrot')"
   ]
  },
  {
   "cell_type": "markdown",
   "id": "8a113385",
   "metadata": {},
   "source": [
    "# Valores únicos de una columna"
   ]
  },
  {
   "cell_type": "markdown",
   "id": "909cc3eb",
   "metadata": {},
   "source": [
    "Se muestran los distintos valores posibles para la categoría de productos."
   ]
  },
  {
   "cell_type": "code",
   "execution_count": 9,
   "id": "7d75198d",
   "metadata": {},
   "outputs": [],
   "source": [
    "def productos_vendidos():\n",
    "    return{p.Product for p in ventas}  "
   ]
  },
  {
   "cell_type": "code",
   "execution_count": 10,
   "id": "2d36d32c",
   "metadata": {},
   "outputs": [
    {
     "data": {
      "text/plain": [
       "{'Arrowroot',\n",
       " 'Banana',\n",
       " 'Bran',\n",
       " 'Carrot',\n",
       " 'Chocolate Chip',\n",
       " 'Oatmeal Raisin',\n",
       " 'Potato Chips',\n",
       " 'Pretzels',\n",
       " 'Whole Wheat'}"
      ]
     },
     "execution_count": 10,
     "metadata": {},
     "output_type": "execute_result"
    }
   ],
   "source": [
    "productos_vendidos()"
   ]
  },
  {
   "cell_type": "markdown",
   "id": "353d3222",
   "metadata": {},
   "source": [
    "# Número de pedidos de X producto"
   ]
  },
  {
   "cell_type": "code",
   "execution_count": 11,
   "id": "14c81c3a",
   "metadata": {},
   "outputs": [],
   "source": [
    "def numero_pedidos_producto(producto):\n",
    "    return[p.Product for p in ventas if producto==p.Product]"
   ]
  },
  {
   "cell_type": "code",
   "execution_count": 13,
   "id": "786fa90e",
   "metadata": {},
   "outputs": [
    {
     "name": "stdout",
     "output_type": "stream",
     "text": [
      "El número de pedidos es 64\n"
     ]
    }
   ],
   "source": [
    "numero= len(numero_pedidos_producto('Carrot'))\n",
    "print(\"El número de pedidos es\", (numero))"
   ]
  },
  {
   "cell_type": "markdown",
   "id": "ddf13e2e",
   "metadata": {},
   "source": [
    "# Ordenación basada en un criterio"
   ]
  },
  {
   "cell_type": "markdown",
   "id": "49becf46",
   "metadata": {},
   "source": [
    "Se muestra el precio total y la ciudad, ordenadas de mayor a menor en función del precio total."
   ]
  },
  {
   "cell_type": "code",
   "execution_count": 9,
   "id": "cf4ffb89",
   "metadata": {},
   "outputs": [],
   "source": [
    "def mayor_factura():\n",
    "    precio = [(p.TotalPrice, p.City) for p in ventas]\n",
    "    precio.sort(key= lambda x:x[0], reverse= True)\n",
    "    return precio[:20]\n",
    "\n"
   ]
  },
  {
   "cell_type": "code",
   "execution_count": 10,
   "id": "6b385c48",
   "metadata": {},
   "outputs": [
    {
     "data": {
      "text/plain": [
       "[(817.92, 'Los Angeles'),\n",
       " (548.12, 'Boston'),\n",
       " (541.62, 'Los Angeles'),\n",
       " (520.01, 'Boston'),\n",
       " (516.66, 'New York'),\n",
       " (488.32, 'New York'),\n",
       " (458.15, 'Boston'),\n",
       " (433.84, 'Los Angeles'),\n",
       " (394.57, 'Boston'),\n",
       " (391.92, 'Boston'),\n",
       " (389.08, 'Boston'),\n",
       " (381.5, 'New York'),\n",
       " (366.36, 'Boston'),\n",
       " (352.16, 'Boston'),\n",
       " (349.32, 'Boston'),\n",
       " (349.32, 'Boston'),\n",
       " (340.8, 'Boston'),\n",
       " (318.28, 'New York'),\n",
       " (303.63, 'Boston'),\n",
       " (303.02, 'San Diego')]"
      ]
     },
     "execution_count": 10,
     "metadata": {},
     "output_type": "execute_result"
    }
   ],
   "source": [
    "mayor_factura()\n"
   ]
  },
  {
   "cell_type": "markdown",
   "id": "def47def",
   "metadata": {},
   "source": [
    "# Agrupación en un diccionario"
   ]
  },
  {
   "cell_type": "code",
   "execution_count": 14,
   "id": "a27abddf",
   "metadata": {},
   "outputs": [],
   "source": [
    "def pedidos_de_productos():\n",
    "    compras_por_producto = dict()\n",
    "    productos={p.Product for p in ventas}\n",
    "    for p in productos:\n",
    "        compras_por_producto[p] = [(e.OrderDate, e.City, e.Quantity) for e in ventas if e.Product ==p]\n",
    "    return(compras_por_producto)\n"
   ]
  },
  {
   "cell_type": "code",
   "execution_count": 15,
   "id": "a74df506",
   "metadata": {},
   "outputs": [
    {
     "data": {
      "text/plain": [
       "{'Chocolate Chip': [('07/01/2020', 'Los Angeles', 58),\n",
       "  ('10/01/2020', 'New York', 82),\n",
       "  ('03/02/2020', 'Boston', 31),\n",
       "  ('02/03/2020', 'New York', 85),\n",
       "  ('14/03/2020', 'Los Angeles', 86),\n",
       "  ('23/03/2020', 'San Diego', 39),\n",
       "  ('01/05/2020', 'San Diego', 63),\n",
       "  ('22/05/2020', 'San Diego', 55),\n",
       "  ('06/06/2020', 'New York', 76),\n",
       "  ('15/07/2020', 'Los Angeles', 75),\n",
       "  ('05/08/2020', 'Los Angeles', 107),\n",
       "  ('14/08/2020', 'San Diego', 70),\n",
       "  ('26/08/2020', 'Los Angeles', 80),\n",
       "  ('22/09/2020', 'New York', 65),\n",
       "  ('28/10/2020', 'Boston', 49),\n",
       "  ('12/12/2020', 'Boston', 36),\n",
       "  ('27/12/2020', 'New York', 65),\n",
       "  ('07/02/2021', 'Los Angeles', 34),\n",
       "  ('28/02/2021', 'Los Angeles', 232),\n",
       "  ('22/04/2021', 'San Diego', 67),\n",
       "  ('04/05/2021', 'Los Angeles', 58),\n",
       "  ('13/05/2021', 'San Diego', 82),\n",
       "  ('22/05/2021', 'Los Angeles', 43),\n",
       "  ('27/06/2021', 'Boston', 38),\n",
       "  ('12/07/2021', 'New York', 40),\n",
       "  ('21/07/2021', 'Boston', 32),\n",
       "  ('30/07/2021', 'Los Angeles', 64),\n",
       "  ('10/10/2021', 'New York', 23),\n",
       "  ('03/11/2021', 'San Diego', 24),\n",
       "  ('18/11/2021', 'New York', 34),\n",
       "  ('27/11/2021', 'Boston', 211),\n",
       "  ('15/12/2021', 'San Diego', 96),\n",
       "  ('21/12/2021', 'Boston', 245)],\n",
       " 'Pretzels': [('13/09/2020', 'Boston', 27),\n",
       "  ('08/01/2021', 'Boston', 29),\n",
       "  ('22/02/2021', 'Boston', 31),\n",
       "  ('19/05/2021', 'Boston', 30),\n",
       "  ('14/08/2021', 'Boston', 22),\n",
       "  ('04/09/2021', 'Boston', 26),\n",
       "  ('28/09/2021', 'Boston', 21)],\n",
       " 'Potato Chips': [('28/01/2020', 'New York', 28),\n",
       "  ('15/02/2020', 'New York', 27),\n",
       "  ('20/03/2020', 'New York', 68),\n",
       "  ('04/04/2020', 'Los Angeles', 68),\n",
       "  ('13/04/2020', 'San Diego', 28),\n",
       "  ('19/04/2020', 'Boston', 134),\n",
       "  ('28/04/2020', 'New York', 64),\n",
       "  ('19/05/2020', 'New York', 49),\n",
       "  ('24/06/2020', 'Los Angeles', 28),\n",
       "  ('27/07/2020', 'San Diego', 31),\n",
       "  ('10/10/2020', 'Los Angeles', 114),\n",
       "  ('06/11/2020', 'Los Angeles', 62),\n",
       "  ('27/11/2020', 'Los Angeles', 29),\n",
       "  ('21/12/2020', 'Los Angeles', 29),\n",
       "  ('01/02/2021', 'Boston', 24),\n",
       "  ('13/02/2021', 'New York', 21),\n",
       "  ('11/03/2021', 'San Diego', 41),\n",
       "  ('17/03/2021', 'Boston', 47),\n",
       "  ('23/03/2021', 'Los Angeles', 33),\n",
       "  ('19/04/2021', 'New York', 24),\n",
       "  ('16/09/2021', 'New York', 20),\n",
       "  ('31/10/2021', 'New York', 25)],\n",
       " 'Banana': [('09/12/2020', 'Boston', 30),\n",
       "  ('24/06/2021', 'Boston', 27),\n",
       "  ('18/07/2021', 'Boston', 22)],\n",
       " 'Oatmeal Raisin': [('21/02/2020', 'Boston', 123),\n",
       "  ('27/02/2020', 'Los Angeles', 33),\n",
       "  ('05/03/2020', 'San Diego', 30),\n",
       "  ('29/03/2020', 'Boston', 193),\n",
       "  ('07/05/2020', 'Boston', 138),\n",
       "  ('03/06/2020', 'Los Angeles', 288),\n",
       "  ('30/06/2020', 'New York', 51),\n",
       "  ('21/07/2020', 'New York', 56),\n",
       "  ('02/08/2020', 'Boston', 137),\n",
       "  ('01/09/2020', 'New York', 74),\n",
       "  ('15/11/2020', 'San Diego', 32),\n",
       "  ('21/11/2020', 'Boston', 97),\n",
       "  ('06/12/2020', 'San Diego', 29),\n",
       "  ('14/01/2021', 'Los Angeles', 80),\n",
       "  ('16/02/2021', 'San Diego', 29),\n",
       "  ('05/03/2021', 'New York', 97),\n",
       "  ('29/03/2021', 'New York', 65),\n",
       "  ('07/04/2021', 'Boston', 123),\n",
       "  ('28/04/2021', 'Boston', 129),\n",
       "  ('10/05/2021', 'New York', 33),\n",
       "  ('31/05/2021', 'San Diego', 44),\n",
       "  ('06/06/2021', 'Boston', 120),\n",
       "  ('18/06/2021', 'New York', 40),\n",
       "  ('06/07/2021', 'Los Angeles', 60),\n",
       "  ('08/08/2021', 'San Diego', 38),\n",
       "  ('23/08/2021', 'New York', 41),\n",
       "  ('10/09/2021', 'Los Angeles', 79),\n",
       "  ('04/10/2021', 'Los Angeles', 47),\n",
       "  ('09/11/2021', 'Boston', 124),\n",
       "  ('06/12/2021', 'Los Angeles', 100),\n",
       "  ('30/12/2021', 'Los Angeles', 44)],\n",
       " 'Bran': [('24/02/2020', 'Los Angeles', 42),\n",
       "  ('26/03/2020', 'Boston', 103),\n",
       "  ('04/05/2020', 'Boston', 105),\n",
       "  ('27/06/2020', 'New York', 110),\n",
       "  ('18/07/2020', 'New York', 72),\n",
       "  ('24/07/2020', 'San Diego', 51),\n",
       "  ('30/07/2020', 'Boston', 56),\n",
       "  ('29/08/2020', 'New York', 75),\n",
       "  ('25/09/2020', 'San Diego', 33),\n",
       "  ('18/11/2020', 'Boston', 66),\n",
       "  ('11/01/2021', 'Los Angeles', 77),\n",
       "  ('02/03/2021', 'New York', 68),\n",
       "  ('08/03/2021', 'San Diego', 86),\n",
       "  ('26/03/2021', 'New York', 57),\n",
       "  ('25/04/2021', 'Boston', 27),\n",
       "  ('07/05/2021', 'New York', 47),\n",
       "  ('03/06/2021', 'Boston', 27),\n",
       "  ('15/06/2021', 'New York', 38),\n",
       "  ('03/07/2021', 'Los Angeles', 65),\n",
       "  ('15/07/2021', 'San Diego', 26),\n",
       "  ('20/08/2021', 'New York', 39),\n",
       "  ('07/09/2021', 'Los Angeles', 50),\n",
       "  ('01/10/2021', 'Los Angeles', 43),\n",
       "  ('28/10/2021', 'New York', 57),\n",
       "  ('06/11/2021', 'Boston', 83),\n",
       "  ('03/12/2021', 'Los Angeles', 42),\n",
       "  ('27/12/2021', 'Los Angeles', 30)],\n",
       " 'Arrowroot': [('13/01/2020', 'Boston', 38),\n",
       "  ('31/01/2020', 'Boston', 36),\n",
       "  ('18/02/2020', 'Boston', 43),\n",
       "  ('25/05/2020', 'Boston', 27),\n",
       "  ('17/08/2020', 'Boston', 31),\n",
       "  ('07/09/2020', 'Boston', 28),\n",
       "  ('19/09/2020', 'New York', 110),\n",
       "  ('28/09/2020', 'Boston', 81),\n",
       "  ('13/10/2020', 'New York', 224),\n",
       "  ('25/10/2020', 'Boston', 40),\n",
       "  ('12/11/2020', 'San Diego', 103),\n",
       "  ('03/12/2020', 'San Diego', 139),\n",
       "  ('24/12/2020', 'New York', 237),\n",
       "  ('30/12/2020', 'San Diego', 83),\n",
       "  ('02/01/2021', 'Boston', 32),\n",
       "  ('26/01/2021', 'Boston', 52),\n",
       "  ('04/02/2021', 'Los Angeles', 58),\n",
       "  ('25/02/2021', 'Los Angeles', 30),\n",
       "  ('04/04/2021', 'Boston', 36),\n",
       "  ('01/05/2021', 'Los Angeles', 77),\n",
       "  ('28/05/2021', 'San Diego', 36),\n",
       "  ('09/07/2021', 'New York', 37),\n",
       "  ('27/07/2021', 'Los Angeles', 20),\n",
       "  ('05/08/2021', 'San Diego', 90),\n",
       "  ('29/08/2021', 'Boston', 136),\n",
       "  ('22/09/2021', 'Boston', 40),\n",
       "  ('07/10/2021', 'New York', 175),\n",
       "  ('16/10/2021', 'Boston', 87),\n",
       "  ('15/11/2021', 'New York', 146),\n",
       "  ('24/11/2021', 'Boston', 139),\n",
       "  ('18/12/2021', 'Boston', 34)],\n",
       " 'Whole Wheat': [('04/01/2020', 'Boston', 87),\n",
       "  ('19/01/2020', 'Boston', 149),\n",
       "  ('06/02/2020', 'Boston', 28),\n",
       "  ('11/03/2020', 'Boston', 40),\n",
       "  ('10/04/2020', 'New York', 23),\n",
       "  ('13/05/2020', 'Los Angeles', 21),\n",
       "  ('31/05/2020', 'Boston', 33),\n",
       "  ('12/06/2020', 'San Diego', 20),\n",
       "  ('18/06/2020', 'Boston', 38),\n",
       "  ('06/07/2020', 'San Diego', 28),\n",
       "  ('12/07/2020', 'Boston', 42),\n",
       "  ('11/08/2020', 'New York', 30),\n",
       "  ('23/08/2020', 'Boston', 21),\n",
       "  ('04/10/2020', 'Boston', 38),\n",
       "  ('19/10/2020', 'New York', 32),\n",
       "  ('31/10/2020', 'Boston', 46),\n",
       "  ('15/12/2020', 'Boston', 41),\n",
       "  ('20/01/2021', 'New York', 31),\n",
       "  ('13/04/2021', 'Los Angeles', 21),\n",
       "  ('09/06/2021', 'Boston', 26),\n",
       "  ('30/06/2021', 'Boston', 34),\n",
       "  ('24/07/2021', 'Boston', 23),\n",
       "  ('22/10/2021', 'Boston', 30),\n",
       "  ('30/11/2021', 'Boston', 20),\n",
       "  ('12/12/2021', 'New York', 25),\n",
       "  ('24/12/2021', 'Boston', 30)],\n",
       " 'Carrot': [('01/01/2020', 'Boston', 33),\n",
       "  ('16/01/2020', 'Boston', 54),\n",
       "  ('22/01/2020', 'Los Angeles', 51),\n",
       "  ('25/01/2020', 'New York', 100),\n",
       "  ('09/02/2020', 'Los Angeles', 44),\n",
       "  ('12/02/2020', 'New York', 23),\n",
       "  ('08/03/2020', 'Boston', 61),\n",
       "  ('17/03/2020', 'New York', 38),\n",
       "  ('01/04/2020', 'Los Angeles', 58),\n",
       "  ('07/04/2020', 'New York', 91),\n",
       "  ('16/04/2020', 'Boston', 48),\n",
       "  ('22/04/2020', 'Los Angeles', 20),\n",
       "  ('25/04/2020', 'New York', 53),\n",
       "  ('10/05/2020', 'Los Angeles', 25),\n",
       "  ('16/05/2020', 'New York', 61),\n",
       "  ('28/05/2020', 'Boston', 58),\n",
       "  ('09/06/2020', 'San Diego', 42),\n",
       "  ('15/06/2020', 'Boston', 75),\n",
       "  ('21/06/2020', 'Los Angeles', 306),\n",
       "  ('03/07/2020', 'San Diego', 52),\n",
       "  ('09/07/2020', 'Boston', 136),\n",
       "  ('08/08/2020', 'New York', 24),\n",
       "  ('20/08/2020', 'Boston', 109),\n",
       "  ('04/09/2020', 'San Diego', 45),\n",
       "  ('10/09/2020', 'Boston', 143),\n",
       "  ('16/09/2020', 'Los Angeles', 133),\n",
       "  ('01/10/2020', 'Boston', 77),\n",
       "  ('07/10/2020', 'Los Angeles', 40),\n",
       "  ('16/10/2020', 'New York', 141),\n",
       "  ('22/10/2020', 'San Diego', 20),\n",
       "  ('03/11/2020', 'Los Angeles', 39),\n",
       "  ('09/11/2020', 'New York', 90),\n",
       "  ('24/11/2020', 'Los Angeles', 30),\n",
       "  ('30/11/2020', 'New York', 92),\n",
       "  ('18/12/2020', 'Los Angeles', 44),\n",
       "  ('05/01/2021', 'Boston', 63),\n",
       "  ('17/01/2021', 'New York', 102),\n",
       "  ('23/01/2021', 'San Diego', 56),\n",
       "  ('29/01/2021', 'Boston', 51),\n",
       "  ('10/02/2021', 'New York', 34),\n",
       "  ('19/02/2021', 'Boston', 68),\n",
       "  ('14/03/2021', 'Boston', 93),\n",
       "  ('20/03/2021', 'Los Angeles', 103),\n",
       "  ('01/04/2021', 'San Diego', 118),\n",
       "  ('10/04/2021', 'Los Angeles', 90),\n",
       "  ('16/04/2021', 'New York', 48),\n",
       "  ('16/05/2021', 'Boston', 58),\n",
       "  ('25/05/2021', 'New York', 84),\n",
       "  ('12/06/2021', 'Los Angeles', 73),\n",
       "  ('21/06/2021', 'San Diego', 41),\n",
       "  ('02/08/2021', 'New York', 71),\n",
       "  ('11/08/2021', 'Boston', 55),\n",
       "  ('17/08/2021', 'Los Angeles', 34),\n",
       "  ('26/08/2021', 'San Diego', 41),\n",
       "  ('01/09/2021', 'Boston', 25),\n",
       "  ('13/09/2021', 'New York', 30),\n",
       "  ('19/09/2021', 'San Diego', 49),\n",
       "  ('25/09/2021', 'Boston', 31),\n",
       "  ('13/10/2021', 'San Diego', 40),\n",
       "  ('19/10/2021', 'Boston', 43),\n",
       "  ('25/10/2021', 'Los Angeles', 35),\n",
       "  ('12/11/2021', 'Los Angeles', 137),\n",
       "  ('21/11/2021', 'San Diego', 20),\n",
       "  ('09/12/2021', 'New York', 38)]}"
      ]
     },
     "execution_count": 15,
     "metadata": {},
     "output_type": "execute_result"
    }
   ],
   "source": [
    "pedidos_de_productos()"
   ]
  },
  {
   "cell_type": "markdown",
   "id": "2dae0645",
   "metadata": {},
   "source": [
    "# Filtrar por pedidos realizados a cada ciudad"
   ]
  },
  {
   "cell_type": "code",
   "execution_count": 16,
   "id": "128daacc",
   "metadata": {},
   "outputs": [],
   "source": [
    "def filtrar_por_ciudad(ventas,City):\n",
    "    numero=[p.City for p in ventas if (City==p.City)]\n",
    "    numero_de_pedidos=len(numero)\n",
    "    return(City, numero_de_pedidos)"
   ]
  },
  {
   "cell_type": "code",
   "execution_count": 17,
   "id": "8dcf9f11",
   "metadata": {},
   "outputs": [
    {
     "name": "stdout",
     "output_type": "stream",
     "text": [
      "El número de pedidos realizados en Los Angeles es de 55\n"
     ]
    }
   ],
   "source": [
    "a =filtrar_por_ciudad(ventas, 'Los Angeles')\n",
    "print(\"El número de pedidos realizados en\", a[0], \"es de\", a[1])"
   ]
  },
  {
   "cell_type": "markdown",
   "id": "f5bc3756",
   "metadata": {},
   "source": [
    "# Gráfica: Precio de pedidos"
   ]
  },
  {
   "cell_type": "code",
   "execution_count": 33,
   "id": "63ccac72",
   "metadata": {},
   "outputs": [],
   "source": [
    "def muestra_precio_pedidos(Ventas):\n",
    "    precio = [p.TotalPrice for p in ventas]\n",
    "    plt.plot(precio, label='ventas')\n",
    "    plt.legend()\n",
    "    plt.show()"
   ]
  },
  {
   "cell_type": "code",
   "execution_count": 37,
   "id": "19d9c240",
   "metadata": {},
   "outputs": [
    {
     "data": {
      "image/png": "[encoded data removed]",
      "text/plain": [
       "<Figure size 432x288 with 1 Axes>"
      ]
     },
     "metadata": {
      "needs_background": "light"
     },
     "output_type": "display_data"
    }
   ],
   "source": [
    "muestra_precio_pedidos('Ventas')"
   ]
  },
  {
   "cell_type": "markdown",
   "id": "e5cc1281",
   "metadata": {},
   "source": [
    "# Gráfica: Ciudades y precio del pedido"
   ]
  },
  {
   "cell_type": "code",
   "execution_count": 18,
   "id": "bc70deb6",
   "metadata": {},
   "outputs": [],
   "source": [
    "def ventas_totales_ciudad(ventas, ciudades):\n",
    "    \n",
    "    registros=[r for r in ventas if r.City in ciudades]\n",
    "    l_ciudades= list({r.City for r in registros})\n",
    "    l_precio=[sum(r.TotalPrice for r in registros if r.City ==city) for city in l_ciudades]\n",
    "    indice = range(len(l_ciudades))\n",
    "    plt.bar(indice, l_precio)\n",
    "    plt.xticks(indice, l_ciudades, fontsize=8)\n",
    "    plt.show()"
   ]
  },
  {
   "cell_type": "code",
   "execution_count": 17,
   "id": "5aaa4fe4",
   "metadata": {},
   "outputs": [
    {
     "data": {
      "image/png": "[encoded data removed]",
      "text/plain": [
       "<Figure size 432x288 with 1 Axes>"
      ]
     },
     "metadata": {
      "needs_background": "light"
     },
     "output_type": "display_data"
    }
   ],
   "source": [
    "ventas_totales_ciudad(ventas, ['Boston', 'Los Angeles', 'New York', 'San Diego'])"
   ]
  },
  {
   "cell_type": "code",
   "execution_count": null,
   "id": "e0c47b83",
   "metadata": {},
   "outputs": [],
   "source": []
  }
 ],
 "metadata": {
  "kernelspec": {
   "display_name": "Python 3 (ipykernel)",
   "language": "python",
   "name": "python3"
  },
  "language_info": {
   "codemirror_mode": {
    "name": "ipython",
    "version": 3
   },
   "file_extension": ".py",
   "mimetype": "text/x-python",
   "name": "python",
   "nbconvert_exporter": "python",
   "pygments_lexer": "ipython3",
   "version": "3.9.12"
  },
  "vscode": {
   "interpreter": {
    "hash": "df4a3896429a0cc6b1f8080c5f1df7f1d3852ee30d8fd60b35cadb176751ff59"
   }
  }
 },
 "nbformat": 4,
 "nbformat_minor": 5
}
